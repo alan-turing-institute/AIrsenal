{
 "cells": [
  {
   "cell_type": "code",
   "execution_count": null,
   "metadata": {},
   "outputs": [],
   "source": [
    "import jax.numpy as jnp\n",
    "import matplotlib.pyplot as plt\n",
    "import numpy as np\n",
    "import seaborn as sns\n",
    "\n",
    "from airsenal.framework.bpl_interface import get_fitted_team_model\n",
    "from airsenal.framework.schema import session\n",
    "from airsenal.framework.season import CURRENT_SEASON, CURRENT_TEAMS\n",
    "from airsenal.framework.utils import NEXT_GAMEWEEK, get_fixtures_for_gameweek"
   ]
  },
  {
   "cell_type": "code",
   "execution_count": null,
   "metadata": {},
   "outputs": [],
   "source": [
    "model_team = get_fitted_team_model(CURRENT_SEASON, NEXT_GAMEWEEK, session)"
   ]
  },
  {
   "cell_type": "code",
   "execution_count": null,
   "metadata": {},
   "outputs": [],
   "source": [
    "print(f\"Predicted outcome probabilities for GW{NEXT_GAMEWEEK}, season {CURRENT_SEASON}\")\n",
    "print(\"(Home Win / Draw / Away Win)\")\n",
    "fixtures = get_fixtures_for_gameweek(NEXT_GAMEWEEK, CURRENT_SEASON)\n",
    "for f in fixtures:\n",
    "    outcome_proba = model_team.predict_outcome_proba(f.home_team, f.away_team)\n",
    "    print(\n",
    "        f\"{f.home_team} vs {f.away_team}: {outcome_proba['home_win'][0]:.2f} / \"\n",
    "        f\"{outcome_proba['draw'][0]:.2f} / {outcome_proba['away_win'][0]:.2f}\"\n",
    "    )"
   ]
  },
  {
   "cell_type": "code",
   "execution_count": null,
   "metadata": {},
   "outputs": [],
   "source": [
    "# extract indices of current premier league teams\n",
    "# val-1 because 1-indexed in model but 0-indexed in python\n",
    "current_idx = {\n",
    "    team: idx for idx, team in enumerate(model_team.teams) if team in CURRENT_TEAMS\n",
    "}\n",
    "\n",
    "top6 = [\"MCI\", \"LIV\", \"TOT\", \"CHE\", \"MUN\", \"ARS\"]"
   ]
  },
  {
   "cell_type": "code",
   "execution_count": null,
   "metadata": {
    "scrolled": false
   },
   "outputs": [],
   "source": [
    "ax = plt.figure(figsize=(15, 5)).gca()\n",
    "for team, idx in current_idx.items():\n",
    "    sns.kdeplot(model_team.attack[:, idx], label=team)\n",
    "plt.title(\"attack\")\n",
    "plt.legend()\n",
    "\n",
    "ax = plt.figure(figsize=(15, 5)).gca()\n",
    "for team, idx in current_idx.items():\n",
    "    sns.kdeplot(model_team.defence[:, idx], label=team)\n",
    "plt.title(\"defence\")\n",
    "plt.legend()\n",
    "\n",
    "ax = plt.figure(figsize=(15, 5)).gca()\n",
    "for team, idx in current_idx.items():\n",
    "    sns.kdeplot(model_team.home_advantage[:, idx], label=team)\n",
    "plt.title(\"home advantage\")\n",
    "plt.legend()"
   ]
  },
  {
   "cell_type": "code",
   "execution_count": null,
   "metadata": {},
   "outputs": [],
   "source": [
    "a_mean = model_team.attack.mean(axis=0)\n",
    "b_mean = model_team.defence.mean(axis=0)\n",
    "\n",
    "a_conf95 = np.abs(np.quantile(model_team.attack, [0.025, 0.975], axis=0) - a_mean)\n",
    "b_conf95 = np.abs(np.quantile(model_team.defence, [0.025, 0.975], axis=0) - b_mean)\n",
    "a_conf80 = np.abs(np.quantile(model_team.attack, [0.1, 0.9], axis=0) - a_mean)\n",
    "b_conf80 = np.abs(np.quantile(model_team.defence, [0.1, 0.9], axis=0) - b_mean)\n",
    "\n",
    "fig, ax = plt.subplots(1, 1, figsize=(10, 10))\n",
    "ax.set_aspect(\"equal\")\n",
    "select_idx = jnp.array(list(current_idx.values()), dtype=int)\n",
    "plt.errorbar(\n",
    "    a_mean[select_idx],\n",
    "    b_mean[select_idx],\n",
    "    xerr=a_conf80[:, select_idx],\n",
    "    yerr=b_conf80[:, select_idx],\n",
    "    marker=\"o\",\n",
    "    markersize=10,\n",
    "    linestyle=\"\",\n",
    "    linewidth=0.5,\n",
    ")\n",
    "plt.xlabel(\"attack\", fontsize=14)\n",
    "plt.ylabel(\"defence\", fontsize=14)\n",
    "\n",
    "for team, idx in current_idx.items():\n",
    "    ax.annotate(team, (a_mean[idx] - 0.03, b_mean[idx] + 0.02), fontsize=12)"
   ]
  },
  {
   "cell_type": "code",
   "execution_count": null,
   "metadata": {},
   "outputs": [],
   "source": [
    "plt.figure(figsize=(10, 5))\n",
    "sns.violinplot(model_team.home_advantage[:, list(current_idx.values())])\n",
    "plt.xticks(\n",
    "    ticks=np.arange(len(current_idx)), labels=list(current_idx.keys()), rotation=90\n",
    ")\n",
    "plt.title(\"Home Advantage\")"
   ]
  },
  {
   "cell_type": "code",
   "execution_count": null,
   "metadata": {},
   "outputs": [],
   "source": [
    "plt.figure()\n",
    "for i in range(model_team.attack_coefficients.shape[1]):\n",
    "    sns.kdeplot(model_team.attack_coefficients[:, i])\n",
    "plt.title(\"Attack Coefficients (Covariates)\")\n",
    "\n",
    "plt.figure()\n",
    "for i in range(model_team.defence_coefficients.shape[1]):\n",
    "    sns.kdeplot(model_team.defence_coefficients[:, i])\n",
    "plt.title(\"Defence Coefficients (Covariates)\")"
   ]
  },
  {
   "cell_type": "code",
   "execution_count": null,
   "metadata": {},
   "outputs": [],
   "source": [
    "beta_a_mean = model_team.attack_coefficients.mean(axis=0)\n",
    "beta_b_mean = model_team.defence_coefficients.mean(axis=0)\n",
    "\n",
    "beta_a_conf95 = np.abs(\n",
    "    np.quantile(model_team.attack_coefficients, [0.025, 0.975], axis=0) - beta_a_mean\n",
    ")\n",
    "beta_b_conf95 = np.abs(\n",
    "    np.quantile(model_team.defence_coefficients, [0.025, 0.975], axis=0) - beta_b_mean\n",
    ")\n",
    "beta_a_conf80 = np.abs(\n",
    "    np.quantile(model_team.attack_coefficients, [0.1, 0.9], axis=0) - beta_a_mean\n",
    ")\n",
    "beta_b_conf80 = np.abs(\n",
    "    np.quantile(model_team.defence_coefficients, [0.1, 0.9], axis=0) - beta_b_mean\n",
    ")\n",
    "\n",
    "fig, ax = plt.subplots(1, 1, figsize=(7, 7))\n",
    "ax.set_aspect(\"equal\")\n",
    "plt.errorbar(\n",
    "    beta_a_mean,\n",
    "    beta_b_mean,\n",
    "    xerr=beta_a_conf80,\n",
    "    yerr=beta_b_conf80,\n",
    "    marker=\"o\",\n",
    "    markersize=10,\n",
    "    linestyle=\"\",\n",
    "    linewidth=0.5,\n",
    ")\n",
    "plt.xlabel(\"beta_a\", fontsize=14)\n",
    "plt.ylabel(\"beta_b\", fontsize=14)\n",
    "plt.title(\"FIFA Ratings\")\n",
    "\n",
    "for idx, feat in enumerate([\"att\", \"mid\", \"defn\", \"ovr\"]):\n",
    "    ax.annotate(feat, (beta_a_mean[idx] - 0.03, beta_b_mean[idx] + 0.02), fontsize=12)\n",
    "\n",
    "xlim = ax.get_xlim()\n",
    "ylim = ax.get_ylim()\n",
    "plt.plot([0, 0], ylim, color=\"k\", linewidth=0.75)\n",
    "plt.plot(xlim, [0, 0], color=\"k\", linewidth=0.75)\n",
    "plt.xlim(xlim)\n",
    "plt.ylim(ylim)"
   ]
  },
  {
   "cell_type": "code",
   "execution_count": null,
   "metadata": {},
   "outputs": [],
   "source": [
    "sns.kdeplot(model_team.rho)\n",
    "plt.title(\"rho\")\n",
    "print(f\"Rho: {model_team.rho.mean():.2f}\")"
   ]
  },
  {
   "cell_type": "code",
   "execution_count": null,
   "metadata": {},
   "outputs": [],
   "source": [
    "team_h = \"MCI\"\n",
    "team_a = \"MUN\""
   ]
  },
  {
   "cell_type": "code",
   "execution_count": null,
   "metadata": {},
   "outputs": [],
   "source": [
    "model_team.predict_concede_n_proba(2, team_h, team_a)"
   ]
  },
  {
   "cell_type": "code",
   "execution_count": null,
   "metadata": {},
   "outputs": [],
   "source": [
    "model_team.predict_score_n_proba(2, team_h, team_a)"
   ]
  },
  {
   "cell_type": "code",
   "execution_count": null,
   "metadata": {},
   "outputs": [],
   "source": [
    "model_team.predict_outcome_proba(team_h, team_a)"
   ]
  },
  {
   "cell_type": "code",
   "execution_count": null,
   "metadata": {},
   "outputs": [],
   "source": [
    "model_team.predict_score_proba(team_h, team_a, 2, 2)"
   ]
  },
  {
   "cell_type": "code",
   "execution_count": null,
   "metadata": {},
   "outputs": [],
   "source": [
    "max_goals = 10\n",
    "\n",
    "prob_score_h = [\n",
    "    model_team.predict_score_n_proba(n, team_h, team_a)[0] for n in range(max_goals)\n",
    "]\n",
    "print(\n",
    "    team_h,\n",
    "    \"exp goals\",\n",
    "    sum([n * prob_score_h[n] for n in range(max_goals)]) / sum(prob_score_h),\n",
    ")\n",
    "\n",
    "prob_score_a = [\n",
    "    model_team.predict_score_n_proba(n, team_a, team_h, home=False)[0]\n",
    "    for n in range(max_goals)\n",
    "]\n",
    "print(\n",
    "    team_a,\n",
    "    \"exp goals\",\n",
    "    sum([n * prob_score_a[n] for n in range(max_goals)]) / sum(prob_score_a),\n",
    ")\n",
    "\n",
    "max_prob = 1.1 * max(prob_score_h + prob_score_a)\n",
    "\n",
    "plt.figure(figsize=(15, 5))\n",
    "plt.subplot(1, 2, 1)\n",
    "plt.bar(range(max_goals), prob_score_h)\n",
    "plt.ylim([0, max_prob])\n",
    "plt.xlim([-1, max_goals])\n",
    "plt.title(team_h)\n",
    "\n",
    "plt.subplot(1, 2, 2)\n",
    "plt.bar(range(max_goals), prob_score_a)\n",
    "plt.ylim([0, max_prob])\n",
    "plt.xlim([-1, max_goals])\n",
    "plt.title(team_a);"
   ]
  },
  {
   "cell_type": "code",
   "execution_count": null,
   "metadata": {},
   "outputs": [],
   "source": []
  }
 ],
 "metadata": {
  "kernelspec": {
   "display_name": "airsenal",
   "language": "python",
   "name": "python3"
  },
  "language_info": {
   "codemirror_mode": {
    "name": "ipython",
    "version": 3
   },
   "file_extension": ".py",
   "mimetype": "text/x-python",
   "name": "python",
   "nbconvert_exporter": "python",
   "pygments_lexer": "ipython3",
   "version": "3.12.7"
  }
 },
 "nbformat": 4,
 "nbformat_minor": 2
}
