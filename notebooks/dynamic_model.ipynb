{
 "cells": [
  {
   "cell_type": "code",
   "execution_count": null,
   "metadata": {},
   "outputs": [],
   "source": [
    "import matplotlib.pyplot as plt\n",
    "import numpy as np\n",
    "import pystan\n",
    "import seaborn as sns\n",
    "\n",
    "import pandas as pd\n",
    "from airsenal.framework.utils import *"
   ]
  },
  {
   "cell_type": "code",
   "execution_count": null,
   "metadata": {},
   "outputs": [],
   "source": [
    "model = pystan.StanModel(file=\"dynamic_model.stan\")"
   ]
  },
  {
   "cell_type": "code",
   "execution_count": null,
   "metadata": {},
   "outputs": [],
   "source": [
    "rows = []\n",
    "\n",
    "results = session.query(Result).all()\n",
    "for result in results:\n",
    "    row = {}\n",
    "    row['gameweek'] = result.fixture.gameweek\n",
    "    row['season'] = result.fixture.season\n",
    "    row['home_team'] = result.fixture.home_team\n",
    "    row['away_team'] = result.fixture.away_team\n",
    "    row['home_goals'] = result.home_score\n",
    "    row['away_goals'] = result.away_score\n",
    "    rows.append(row)\n",
    "\n",
    "df = pd.DataFrame(rows)\n",
    "df = df.loc[df[\"season\"].isin([\"1819\", \"1718\", \"1617\"])]\n",
    "\n",
    "df.loc[df[\"season\"] == \"1718\", \"gameweek\"] = df.loc[df[\"season\"] == \"1718\", \"gameweek\"] + 38\n",
    "df.loc[df[\"season\"] == \"1819\", \"gameweek\"] = df.loc[df[\"season\"] == \"1819\", \"gameweek\"] + 2 * 38\n",
    "\n",
    "teams = list(set(df[\"home_team\"]).union(set(df[\"away_team\"])))\n",
    "team_indices = {team: i + 1 for i, team in enumerate(teams)}\n",
    "\n",
    "df = df.replace(team_indices)"
   ]
  },
  {
   "cell_type": "code",
   "execution_count": null,
   "metadata": {},
   "outputs": [],
   "source": [
    "stan_data = {\n",
    "    \"gameweek\": df[\"gameweek\"].values,\n",
    "    \"home_team\": df[\"home_team\"].values,\n",
    "    \"away_team\": df[\"away_team\"].values,\n",
    "    \"home_goals\": df[\"home_goals\"].values,\n",
    "    \"away_goals\": df[\"away_goals\"].values,\n",
    "    \"n_match\": len(df),\n",
    "    \"n_team\": len(teams),\n",
    "    \"n_gameweeks\": df[\"gameweek\"].nunique()\n",
    "}"
   ]
  },
  {
   "cell_type": "code",
   "execution_count": null,
   "metadata": {},
   "outputs": [],
   "source": [
    "fit = model.sampling(stan_data, iter=1000)"
   ]
  },
  {
   "cell_type": "code",
   "execution_count": null,
   "metadata": {},
   "outputs": [],
   "source": [
    "def plot_team_ability(team_name, ax=None, param=\"a\"):\n",
    "    team_idx = team_indices[team_name] - 1\n",
    "    if ax is None:\n",
    "        fig, ax = plt.subplots()\n",
    "    ax.fill_between(\n",
    "        range(114),\n",
    "        np.percentile(fit[param][:, team_idx, :], 16, axis=0),\n",
    "        np.percentile(fit[param][:, team_idx, :], 84, axis=0),\n",
    "        color=\"0.5\",\n",
    "        alpha=0.5\n",
    "    )\n",
    "    ax.plot(range(114), fit[param][:, team_idx, :].mean(axis=0), c=\"k\")\n",
    "    return ax"
   ]
  },
  {
   "cell_type": "code",
   "execution_count": null,
   "metadata": {},
   "outputs": [],
   "source": [
    "plot_team_ability(\"MCI\")"
   ]
  },
  {
   "cell_type": "code",
   "execution_count": null,
   "metadata": {},
   "outputs": [],
   "source": [
    "plot_team_ability(\"MCI\", param=\"b\")"
   ]
  },
  {
   "cell_type": "code",
   "execution_count": null,
   "metadata": {},
   "outputs": [],
   "source": []
  }
 ],
 "metadata": {
  "kernelspec": {
   "display_name": "Python 3",
   "language": "python",
   "name": "python3"
  },
  "language_info": {
   "codemirror_mode": {
    "name": "ipython",
    "version": 3
   },
   "file_extension": ".py",
   "mimetype": "text/x-python",
   "name": "python",
   "nbconvert_exporter": "python",
   "pygments_lexer": "ipython3",
   "version": "3.7.4"
  }
 },
 "nbformat": 4,
 "nbformat_minor": 2
}
