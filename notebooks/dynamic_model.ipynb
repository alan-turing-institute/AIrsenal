{
 "cells": [
  {
   "cell_type": "markdown",
   "metadata": {},
   "source": [
    "## Dynamic model - investigate weighting more recent results higher than older ones\n",
    "\n",
    "This notebook uses `dynamic_model.stan` to fit home and away scoring rates, weighted by gameweek.\n",
    "\n",
    "To run, clone the AIrsenal repo, and follow the instructions on the README to install (ensure you have gcc installed, create a conda environment, and do `pip install .` from the main AIrsenal directory)."
   ]
  },
  {
   "cell_type": "code",
   "execution_count": null,
   "metadata": {},
   "outputs": [
    {
     "name": "stdout",
     "output_type": "stream",
     "text": [
      "Couldn't find FPL_LOGIN - some data may be unavailable\n",
      "Couldn't find FPL_PASSWORD - some data may be unavailable\n"
     ]
    }
   ],
   "source": [
    "import matplotlib.pyplot as plt\n",
    "import numpy as np\n",
    "import pandas as pd\n",
    "import pystan\n",
    "\n",
    "from airsenal.framework.schema import Result, session"
   ]
  },
  {
   "cell_type": "code",
   "execution_count": 2,
   "metadata": {},
   "outputs": [
    {
     "name": "stderr",
     "output_type": "stream",
     "text": [
      "INFO:pystan:COMPILING THE C++ CODE FOR MODEL anon_model_54b0bd22de967cbba493b9fad78a4531 NOW.\n"
     ]
    }
   ],
   "source": [
    "model = pystan.StanModel(file=\"dynamic_model.stan\")"
   ]
  },
  {
   "cell_type": "code",
   "execution_count": null,
   "metadata": {},
   "outputs": [],
   "source": [
    "rows = []\n",
    "\n",
    "results = session.query(Result).all()\n",
    "for result in results:\n",
    "    row = {}\n",
    "    row[\"gameweek\"] = result.fixture.gameweek\n",
    "    row[\"season\"] = result.fixture.season\n",
    "    row[\"home_team\"] = result.fixture.home_team\n",
    "    row[\"away_team\"] = result.fixture.away_team\n",
    "    row[\"home_goals\"] = result.home_score\n",
    "    row[\"away_goals\"] = result.away_score\n",
    "    rows.append(row)\n",
    "\n",
    "df = pd.DataFrame(rows)\n",
    "df = df.loc[df[\"season\"].isin([\"1819\", \"1718\"])]\n",
    "\n",
    "df.loc[df[\"season\"] == \"1819\", \"gameweek\"] = (\n",
    "    df.loc[df[\"season\"] == \"1819\", \"gameweek\"] + 38\n",
    ")\n",
    "\n",
    "teams = list(set(df[\"home_team\"]).union(set(df[\"away_team\"])))\n",
    "team_indices = {team: i + 1 for i, team in enumerate(teams)}\n",
    "\n",
    "df = df.replace(team_indices)"
   ]
  },
  {
   "cell_type": "code",
   "execution_count": 14,
   "metadata": {},
   "outputs": [],
   "source": [
    "stan_data = {\n",
    "    \"gameweek\": df[\"gameweek\"].values,\n",
    "    \"home_team\": df[\"home_team\"].values,\n",
    "    \"away_team\": df[\"away_team\"].values,\n",
    "    \"home_goals\": df[\"home_goals\"].values,\n",
    "    \"away_goals\": df[\"away_goals\"].values,\n",
    "    \"n_match\": len(df),\n",
    "    \"n_team\": len(teams),\n",
    "    \"n_gameweeks\": df[\"gameweek\"].nunique(),\n",
    "}"
   ]
  },
  {
   "cell_type": "code",
   "execution_count": 15,
   "metadata": {},
   "outputs": [
    {
     "data": {
      "text/plain": [
       "760"
      ]
     },
     "execution_count": 15,
     "metadata": {},
     "output_type": "execute_result"
    }
   ],
   "source": [
    "len(df)"
   ]
  },
  {
   "cell_type": "code",
   "execution_count": 16,
   "metadata": {},
   "outputs": [
    {
     "name": "stderr",
     "output_type": "stream",
     "text": [
      "WARNING:pystan:Maximum (flat) parameter count (1000) exceeded: skipping diagnostic tests for n_eff and Rhat.\n",
      "To run all diagnostics call pystan.check_hmc_diagnostics(fit)\n"
     ]
    }
   ],
   "source": [
    "fit = model.sampling(stan_data, iter=1000)"
   ]
  },
  {
   "cell_type": "code",
   "execution_count": 22,
   "metadata": {},
   "outputs": [],
   "source": [
    "def plot_team_ability(team_name, ax=None, param=\"a\"):\n",
    "    team_idx = team_indices[team_name] - 1\n",
    "    if ax is None:\n",
    "        fig, ax = plt.subplots()\n",
    "    ax.fill_between(\n",
    "        range(76),\n",
    "        np.percentile(fit[param][:, team_idx, :], 16, axis=0),\n",
    "        np.percentile(fit[param][:, team_idx, :], 84, axis=0),\n",
    "        color=\"0.5\",\n",
    "        alpha=0.5,\n",
    "    )\n",
    "    ax.plot(range(76), fit[param][:, team_idx, :].mean(axis=0), c=\"k\")\n",
    "    return ax"
   ]
  },
  {
   "cell_type": "code",
   "execution_count": 23,
   "metadata": {},
   "outputs": [
    {
     "data": {
      "text/plain": [
       "<matplotlib.axes._subplots.AxesSubplot at 0x1298ed860>"
      ]
     },
     "execution_count": 23,
     "metadata": {},
     "output_type": "execute_result"
    },
    {
     "data": {
      "image/png": "[encoded data removed]",
      "text/plain": [
       "<Figure size 432x288 with 1 Axes>"
      ]
     },
     "metadata": {
      "needs_background": "light"
     },
     "output_type": "display_data"
    }
   ],
   "source": [
    "plot_team_ability(\"MCI\")"
   ]
  },
  {
   "cell_type": "code",
   "execution_count": 24,
   "metadata": {},
   "outputs": [
    {
     "data": {
      "text/plain": [
       "<matplotlib.axes._subplots.AxesSubplot at 0x129875940>"
      ]
     },
     "execution_count": 24,
     "metadata": {},
     "output_type": "execute_result"
    },
    {
     "data": {
      "image/png": "[encoded data removed]",
      "text/plain": [
       "<Figure size 432x288 with 1 Axes>"
      ]
     },
     "metadata": {
      "needs_background": "light"
     },
     "output_type": "display_data"
    }
   ],
   "source": [
    "plot_team_ability(\"MCI\", param=\"b\")"
   ]
  },
  {
   "cell_type": "code",
   "execution_count": null,
   "metadata": {},
   "outputs": [],
   "source": []
  }
 ],
 "metadata": {
  "kernelspec": {
   "display_name": "Python 3",
   "language": "python",
   "name": "python3"
  },
  "language_info": {
   "codemirror_mode": {
    "name": "ipython",
    "version": 3
   },
   "file_extension": ".py",
   "mimetype": "text/x-python",
   "name": "python",
   "nbconvert_exporter": "python",
   "pygments_lexer": "ipython3",
   "version": "3.6.10"
  }
 },
 "nbformat": 4,
 "nbformat_minor": 2
}
