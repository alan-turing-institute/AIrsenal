{
 "cells": [
  {
   "cell_type": "markdown",
   "id": "efcc183d",
   "metadata": {},
   "source": [
    "# Get AIrsenal's predictions for a set of fixtures"
   ]
  },
  {
   "cell_type": "code",
   "execution_count": 1,
   "id": "879d159f",
   "metadata": {},
   "outputs": [],
   "source": [
    "import numpy as np\n",
    "\n",
    "from airsenal.framework.bpl_interface import get_fitted_team_model\n",
    "from airsenal.framework.schema import session\n",
    "from airsenal.framework.utils import get_fixtures_for_gameweek"
   ]
  },
  {
   "cell_type": "code",
   "execution_count": 2,
   "id": "8a391779",
   "metadata": {},
   "outputs": [],
   "source": [
    "season = \"2122\"\n",
    "gw = 8\n",
    "max_goals = 10"
   ]
  },
  {
   "cell_type": "code",
   "execution_count": 3,
   "id": "6e560398",
   "metadata": {},
   "outputs": [
    {
     "name": "stdout",
     "output_type": "stream",
     "text": [
      "Fitting team model...\n"
     ]
    },
    {
     "name": "stderr",
     "output_type": "stream",
     "text": [
      "sample: 100%|█████████████████████████████████| 1500/1500 [00:22<00:00, 66.97it/s, 63 steps of size 6.12e-02. acc. prob=0.94]\n"
     ]
    }
   ],
   "source": [
    "model = get_fitted_team_model(season, gw, session)"
   ]
  },
  {
   "cell_type": "code",
   "execution_count": 4,
   "id": "bd98bd7b",
   "metadata": {},
   "outputs": [],
   "source": [
    "fixtures = get_fixtures_for_gameweek(gw, season, session)\n",
    "\n",
    "h_goals = []\n",
    "a_goals = []\n",
    "for h in range(max_goals):\n",
    "    for a in range(max_goals):\n",
    "        h_goals.append(h)\n",
    "        a_goals.append(a)"
   ]
  },
  {
   "cell_type": "code",
   "execution_count": 5,
   "id": "68f3979c",
   "metadata": {},
   "outputs": [],
   "source": [
    "score_probs = [\n",
    "    model.predict_score_proba(\n",
    "        f.home_team, f.away_team, np.array(h_goals), np.array(a_goals)\n",
    "    )\n",
    "    for f in fixtures\n",
    "]\n",
    "most_likely_idx = [sp.argmax() for sp in score_probs]\n",
    "most_likely_score = [(h_goals[idx], a_goals[idx]) for idx in most_likely_idx]"
   ]
  },
  {
   "cell_type": "code",
   "execution_count": 6,
   "id": "73b62dca",
   "metadata": {},
   "outputs": [],
   "source": [
    "outcome_probs = [\n",
    "    model.predict_outcome_proba(f.home_team, f.away_team) for f in fixtures\n",
    "]\n",
    "most_likely_outcome = []\n",
    "for o in outcome_probs:\n",
    "    if (o[\"home_win\"] >= o[\"away_win\"]) and (o[\"home_win\"] >= o[\"draw\"]):\n",
    "        most_likely_outcome.append(\"home_win\")\n",
    "    elif (o[\"away_win\"] > o[\"home_win\"]) and (o[\"away_win\"] >= o[\"draw\"]):\n",
    "        most_likely_outcome.append(\"away_win\")\n",
    "    else:\n",
    "        most_likely_outcome.append(\"draw\")"
   ]
  },
  {
   "cell_type": "code",
   "execution_count": 7,
   "id": "9566a085",
   "metadata": {},
   "outputs": [],
   "source": [
    "goal_probs = [\n",
    "    (\n",
    "        model.predict_score_n_proba(\n",
    "            np.arange(max_goals), f.home_team, f.away_team, home=True\n",
    "        ),\n",
    "        model.predict_score_n_proba(\n",
    "            np.arange(max_goals), f.away_team, f.home_team, home=False\n",
    "        ),\n",
    "    )\n",
    "    for f in fixtures\n",
    "]\n",
    "mean_goals = [\n",
    "    (\n",
    "        round(np.average(np.arange(max_goals), weights=g[0]), 2),\n",
    "        round(np.average(np.arange(max_goals), weights=g[1]), 2),\n",
    "    )\n",
    "    for g in goal_probs\n",
    "]"
   ]
  },
  {
   "cell_type": "code",
   "execution_count": 21,
   "id": "fd1f4440",
   "metadata": {},
   "outputs": [
    {
     "name": "stdout",
     "output_type": "stream",
     "text": [
      "2122 GW8 WAT 0 - 5 LIV , PREDICT: away_win (0, 2) (0.78, 2.38) , ACTUAL: 2.7%\n",
      "2122 GW8 AVL 2 - 3 WOL , PREDICT: away_win (1, 1) (1.17, 1.22) , ACTUAL: 1.9%\n",
      "2122 GW8 LEI 4 - 2 MUN , PREDICT: away_win (1, 1) (1.36, 1.43) , ACTUAL: 0.9%\n",
      "2122 GW8 MCI 2 - 0 BUR , PREDICT: home_win (2, 0) (2.68, 0.65) , ACTUAL: 12.8%\n",
      "2122 GW8 NOR 0 - 0 BHA , PREDICT: away_win (1, 1) (1.06, 1.25) , ACTUAL: 10.5%\n",
      "2122 GW8 SOU 1 - 0 LEE , PREDICT: home_win (1, 1) (1.46, 1.32) , ACTUAL: 8.8%\n",
      "2122 GW8 BRE 0 - 1 CHE , PREDICT: away_win (0, 2) (0.77, 2.16) , ACTUAL: 11.3%\n",
      "2122 GW8 EVE 0 - 1 WHU , PREDICT: home_win (1, 1) (1.45, 1.21) , ACTUAL: 8.1%\n",
      "2122 GW8 NEW 2 - 3 TOT , PREDICT: away_win (1, 1) (1.07, 1.75) , ACTUAL: 3.0%\n",
      "2122 GW8 ARS 2 - 2 CRY , PREDICT: home_win (1, 0) (1.81, 0.93) , ACTUAL: 4.5%\n"
     ]
    }
   ],
   "source": [
    "for f, s, o, m in zip(\n",
    "    fixtures, most_likely_score, most_likely_outcome, mean_goals, strict=False\n",
    "):\n",
    "    if f.result:\n",
    "        actual_prob = model.predict_score_proba(\n",
    "            f.home_team, f.away_team, f.result.home_score, f.result.away_score\n",
    "        )\n",
    "        print(f.result, \", PREDICT:\", o, s, m, f\", ACTUAL: {float(actual_prob):.1%}\")\n",
    "    else:\n",
    "        print(f, \"pred\", o, s, m)"
   ]
  },
  {
   "cell_type": "code",
   "execution_count": null,
   "id": "e2ceebc9",
   "metadata": {},
   "outputs": [],
   "source": []
  }
 ],
 "metadata": {
  "kernelspec": {
   "display_name": "Python 3 (ipykernel)",
   "language": "python",
   "name": "python3"
  },
  "language_info": {
   "codemirror_mode": {
    "name": "ipython",
    "version": 3
   },
   "file_extension": ".py",
   "mimetype": "text/x-python",
   "name": "python",
   "nbconvert_exporter": "python",
   "pygments_lexer": "ipython3",
   "version": "3.8.10"
  }
 },
 "nbformat": 4,
 "nbformat_minor": 5
}
