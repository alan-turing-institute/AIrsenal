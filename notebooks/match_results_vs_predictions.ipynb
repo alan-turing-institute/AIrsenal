{
 "cells": [
  {
   "cell_type": "code",
   "execution_count": null,
   "metadata": {},
   "outputs": [],
   "source": [
    "import matplotlib.pyplot as plt\n",
    "import pandas as pd\n",
    "from bpl import ExtendedDixonColesMatchPredictor\n",
    "\n",
    "from airsenal.framework.bpl_interface import get_fitted_team_model\n",
    "from airsenal.framework.schema import Fixture, Result, session"
   ]
  },
  {
   "cell_type": "code",
   "execution_count": 3,
   "metadata": {},
   "outputs": [
    {
     "name": "stdout",
     "output_type": "stream",
     "text": [
      "Fitting team model (<class 'bpl.extended_dixon_coles.ExtendedDixonColesMatchPredictor'>)...\n",
      "Fitting <bpl.extended_dixon_coles.ExtendedDixonColesMatchPredictor object at 0x16a918790> model with epsilon = 1.0\n"
     ]
    },
    {
     "name": "stderr",
     "output_type": "stream",
     "text": [
      "sample: 100%|██████████| 1500/1500 [00:03<00:00, 433.22it/s, 31 steps of size 9.72e-02. acc. prob=0.91] \n"
     ]
    }
   ],
   "source": [
    "season = \"2021\"\n",
    "next_gw = 5\n",
    "\n",
    "model_team = get_fitted_team_model(\n",
    "    season=season,\n",
    "    gameweek=next_gw,\n",
    "    dbsession=session,\n",
    "    ratings=True,\n",
    "    model=ExtendedDixonColesMatchPredictor(),\n",
    "    epsilon=1.0,\n",
    ")"
   ]
  },
  {
   "cell_type": "markdown",
   "metadata": {},
   "source": [
    "## Get Actual Match Results from Database"
   ]
  },
  {
   "cell_type": "code",
   "execution_count": 12,
   "metadata": {},
   "outputs": [],
   "source": [
    "query = (\n",
    "    session.query(\n",
    "        Result, Fixture.season, Fixture.gameweek, Fixture.home_team, Fixture.away_team\n",
    "    )\n",
    "    .filter(Fixture.gameweek >= next_gw)\n",
    "    .filter(Fixture.season == season)\n",
    "    .join(Fixture)\n",
    ")\n",
    "results = pd.read_sql(query.statement, session.bind)\n",
    "\n",
    "results.head()"
   ]
  },
  {
   "cell_type": "code",
   "execution_count": 13,
   "metadata": {},
   "outputs": [],
   "source": [
    "max_goals = 10\n",
    "\n",
    "\n",
    "def score_error(actual, goal_preds):\n",
    "    return sum(abs(actual - i) * goal_preds[i] for i in range(max_goals))\n",
    "\n",
    "\n",
    "def exp_goals(goal_preds):\n",
    "    return sum([n * goal_preds[n] for n in range(max_goals)]) / sum(goal_preds)\n",
    "\n",
    "\n",
    "for i, row in results.iterrows():\n",
    "    team_h = row[\"home_team\"]\n",
    "    team_a = row[\"away_team\"]\n",
    "    actual_h = row[\"home_score\"]\n",
    "    actual_a = row[\"away_score\"]\n",
    "\n",
    "    prob_score_h = [\n",
    "        model_team.score_n_probability(n, team_h, team_a) for n in range(max_goals)\n",
    "    ]\n",
    "    prob_score_a = [\n",
    "        model_team.score_n_probability(n, team_a, team_h, home=False)\n",
    "        for n in range(max_goals)\n",
    "    ]\n",
    "\n",
    "    exp_h = exp_goals(prob_score_h)\n",
    "    exp_a = exp_goals(prob_score_a)\n",
    "    results.loc[i, \"pred_home\"] = exp_h\n",
    "    results.loc[i, \"pred_away\"] = exp_a\n",
    "\n",
    "    err_h = score_error(actual_h, prob_score_h)\n",
    "    err_a = score_error(actual_a, prob_score_a)\n",
    "    results.loc[i, \"home_error\"] = err_h\n",
    "    results.loc[i, \"away_error\"] = err_a\n",
    "\n",
    "\n",
    "results[\"home_diff\"] = results[\"home_score\"] - results[\"pred_home\"]\n",
    "results[\"away_diff\"] = results[\"away_score\"] - results[\"pred_away\"]"
   ]
  },
  {
   "cell_type": "code",
   "execution_count": 47,
   "metadata": {},
   "outputs": [
    {
     "data": {
      "text/html": [
       "<div>\n",
       "<style scoped>\n",
       "    .dataframe tbody tr th:only-of-type {\n",
       "        vertical-align: middle;\n",
       "    }\n",
       "\n",
       "    .dataframe tbody tr th {\n",
       "        vertical-align: top;\n",
       "    }\n",
       "\n",
       "    .dataframe thead th {\n",
       "        text-align: right;\n",
       "    }\n",
       "</style>\n",
       "<table border=\"1\" class=\"dataframe\">\n",
       "  <thead>\n",
       "    <tr style=\"text-align: right;\">\n",
       "      <th></th>\n",
       "      <th>result_id</th>\n",
       "      <th>fixture_id</th>\n",
       "      <th>home_score</th>\n",
       "      <th>away_score</th>\n",
       "      <th>player_id</th>\n",
       "      <th>season</th>\n",
       "      <th>gameweek</th>\n",
       "      <th>home_team</th>\n",
       "      <th>away_team</th>\n",
       "      <th>pred_home</th>\n",
       "      <th>pred_away</th>\n",
       "      <th>home_error</th>\n",
       "      <th>away_error</th>\n",
       "      <th>home_diff</th>\n",
       "      <th>away_diff</th>\n",
       "    </tr>\n",
       "  </thead>\n",
       "  <tbody>\n",
       "    <tr>\n",
       "      <th>0</th>\n",
       "      <td>1179</td>\n",
       "      <td>1182</td>\n",
       "      <td>2</td>\n",
       "      <td>2</td>\n",
       "      <td>None</td>\n",
       "      <td>2021</td>\n",
       "      <td>5</td>\n",
       "      <td>EVE</td>\n",
       "      <td>LIV</td>\n",
       "      <td>1.055435</td>\n",
       "      <td>1.968919</td>\n",
       "      <td>1.185326</td>\n",
       "      <td>1.082896</td>\n",
       "      <td>0.944565</td>\n",
       "      <td>0.031081</td>\n",
       "    </tr>\n",
       "    <tr>\n",
       "      <th>1</th>\n",
       "      <td>1180</td>\n",
       "      <td>1183</td>\n",
       "      <td>3</td>\n",
       "      <td>3</td>\n",
       "      <td>None</td>\n",
       "      <td>2021</td>\n",
       "      <td>5</td>\n",
       "      <td>CHE</td>\n",
       "      <td>SOU</td>\n",
       "      <td>2.065528</td>\n",
       "      <td>0.771533</td>\n",
       "      <td>1.419626</td>\n",
       "      <td>2.247793</td>\n",
       "      <td>0.934472</td>\n",
       "      <td>2.228467</td>\n",
       "    </tr>\n",
       "    <tr>\n",
       "      <th>2</th>\n",
       "      <td>1181</td>\n",
       "      <td>1184</td>\n",
       "      <td>1</td>\n",
       "      <td>0</td>\n",
       "      <td>None</td>\n",
       "      <td>2021</td>\n",
       "      <td>5</td>\n",
       "      <td>MCI</td>\n",
       "      <td>ARS</td>\n",
       "      <td>2.608716</td>\n",
       "      <td>1.044765</td>\n",
       "      <td>1.757635</td>\n",
       "      <td>1.044765</td>\n",
       "      <td>-1.608716</td>\n",
       "      <td>-1.044765</td>\n",
       "    </tr>\n",
       "    <tr>\n",
       "      <th>3</th>\n",
       "      <td>1182</td>\n",
       "      <td>1185</td>\n",
       "      <td>1</td>\n",
       "      <td>4</td>\n",
       "      <td>None</td>\n",
       "      <td>2021</td>\n",
       "      <td>5</td>\n",
       "      <td>NEW</td>\n",
       "      <td>MUN</td>\n",
       "      <td>1.079972</td>\n",
       "      <td>1.453167</td>\n",
       "      <td>0.761056</td>\n",
       "      <td>2.590293</td>\n",
       "      <td>-0.079972</td>\n",
       "      <td>2.546833</td>\n",
       "    </tr>\n",
       "    <tr>\n",
       "      <th>4</th>\n",
       "      <td>1183</td>\n",
       "      <td>1186</td>\n",
       "      <td>1</td>\n",
       "      <td>1</td>\n",
       "      <td>None</td>\n",
       "      <td>2021</td>\n",
       "      <td>5</td>\n",
       "      <td>SHU</td>\n",
       "      <td>FUL</td>\n",
       "      <td>1.605974</td>\n",
       "      <td>0.779952</td>\n",
       "      <td>1.011536</td>\n",
       "      <td>0.699715</td>\n",
       "      <td>-0.605974</td>\n",
       "      <td>0.220048</td>\n",
       "    </tr>\n",
       "    <tr>\n",
       "      <th>...</th>\n",
       "      <td>...</td>\n",
       "      <td>...</td>\n",
       "      <td>...</td>\n",
       "      <td>...</td>\n",
       "      <td>...</td>\n",
       "      <td>...</td>\n",
       "      <td>...</td>\n",
       "      <td>...</td>\n",
       "      <td>...</td>\n",
       "      <td>...</td>\n",
       "      <td>...</td>\n",
       "      <td>...</td>\n",
       "      <td>...</td>\n",
       "      <td>...</td>\n",
       "      <td>...</td>\n",
       "    </tr>\n",
       "    <tr>\n",
       "      <th>74</th>\n",
       "      <td>1253</td>\n",
       "      <td>1256</td>\n",
       "      <td>3</td>\n",
       "      <td>0</td>\n",
       "      <td>None</td>\n",
       "      <td>2021</td>\n",
       "      <td>12</td>\n",
       "      <td>SOU</td>\n",
       "      <td>SHU</td>\n",
       "      <td>1.207379</td>\n",
       "      <td>0.982064</td>\n",
       "      <td>1.883693</td>\n",
       "      <td>0.982064</td>\n",
       "      <td>1.792621</td>\n",
       "      <td>-0.982064</td>\n",
       "    </tr>\n",
       "    <tr>\n",
       "      <th>75</th>\n",
       "      <td>1254</td>\n",
       "      <td>1257</td>\n",
       "      <td>1</td>\n",
       "      <td>1</td>\n",
       "      <td>None</td>\n",
       "      <td>2021</td>\n",
       "      <td>12</td>\n",
       "      <td>CRY</td>\n",
       "      <td>TOT</td>\n",
       "      <td>1.001028</td>\n",
       "      <td>1.618897</td>\n",
       "      <td>0.738455</td>\n",
       "      <td>1.017873</td>\n",
       "      <td>-0.001028</td>\n",
       "      <td>-0.618897</td>\n",
       "    </tr>\n",
       "    <tr>\n",
       "      <th>76</th>\n",
       "      <td>1255</td>\n",
       "      <td>1258</td>\n",
       "      <td>1</td>\n",
       "      <td>1</td>\n",
       "      <td>None</td>\n",
       "      <td>2021</td>\n",
       "      <td>12</td>\n",
       "      <td>FUL</td>\n",
       "      <td>LIV</td>\n",
       "      <td>0.709895</td>\n",
       "      <td>2.816646</td>\n",
       "      <td>0.695375</td>\n",
       "      <td>1.937315</td>\n",
       "      <td>0.290105</td>\n",
       "      <td>-1.816646</td>\n",
       "    </tr>\n",
       "    <tr>\n",
       "      <th>77</th>\n",
       "      <td>1256</td>\n",
       "      <td>1259</td>\n",
       "      <td>0</td>\n",
       "      <td>1</td>\n",
       "      <td>None</td>\n",
       "      <td>2021</td>\n",
       "      <td>12</td>\n",
       "      <td>ARS</td>\n",
       "      <td>BUR</td>\n",
       "      <td>2.033984</td>\n",
       "      <td>0.949584</td>\n",
       "      <td>2.033860</td>\n",
       "      <td>0.725217</td>\n",
       "      <td>-2.033984</td>\n",
       "      <td>0.050416</td>\n",
       "    </tr>\n",
       "    <tr>\n",
       "      <th>78</th>\n",
       "      <td>1257</td>\n",
       "      <td>1260</td>\n",
       "      <td>3</td>\n",
       "      <td>0</td>\n",
       "      <td>None</td>\n",
       "      <td>2021</td>\n",
       "      <td>12</td>\n",
       "      <td>LEI</td>\n",
       "      <td>BHA</td>\n",
       "      <td>1.700611</td>\n",
       "      <td>0.882063</td>\n",
       "      <td>1.568841</td>\n",
       "      <td>0.882063</td>\n",
       "      <td>1.299389</td>\n",
       "      <td>-0.882063</td>\n",
       "    </tr>\n",
       "  </tbody>\n",
       "</table>\n",
       "<p>79 rows × 15 columns</p>\n",
       "</div>"
      ],
      "text/plain": [
       "    result_id  fixture_id  home_score  away_score player_id season  gameweek  \\\n",
       "0        1179        1182           2           2      None   2021         5   \n",
       "1        1180        1183           3           3      None   2021         5   \n",
       "2        1181        1184           1           0      None   2021         5   \n",
       "3        1182        1185           1           4      None   2021         5   \n",
       "4        1183        1186           1           1      None   2021         5   \n",
       "..        ...         ...         ...         ...       ...    ...       ...   \n",
       "74       1253        1256           3           0      None   2021        12   \n",
       "75       1254        1257           1           1      None   2021        12   \n",
       "76       1255        1258           1           1      None   2021        12   \n",
       "77       1256        1259           0           1      None   2021        12   \n",
       "78       1257        1260           3           0      None   2021        12   \n",
       "\n",
       "   home_team away_team  pred_home  pred_away  home_error  away_error  \\\n",
       "0        EVE       LIV   1.055435   1.968919    1.185326    1.082896   \n",
       "1        CHE       SOU   2.065528   0.771533    1.419626    2.247793   \n",
       "2        MCI       ARS   2.608716   1.044765    1.757635    1.044765   \n",
       "3        NEW       MUN   1.079972   1.453167    0.761056    2.590293   \n",
       "4        SHU       FUL   1.605974   0.779952    1.011536    0.699715   \n",
       "..       ...       ...        ...        ...         ...         ...   \n",
       "74       SOU       SHU   1.207379   0.982064    1.883693    0.982064   \n",
       "75       CRY       TOT   1.001028   1.618897    0.738455    1.017873   \n",
       "76       FUL       LIV   0.709895   2.816646    0.695375    1.937315   \n",
       "77       ARS       BUR   2.033984   0.949584    2.033860    0.725217   \n",
       "78       LEI       BHA   1.700611   0.882063    1.568841    0.882063   \n",
       "\n",
       "    home_diff  away_diff  \n",
       "0    0.944565   0.031081  \n",
       "1    0.934472   2.228467  \n",
       "2   -1.608716  -1.044765  \n",
       "3   -0.079972   2.546833  \n",
       "4   -0.605974   0.220048  \n",
       "..        ...        ...  \n",
       "74   1.792621  -0.982064  \n",
       "75  -0.001028  -0.618897  \n",
       "76   0.290105  -1.816646  \n",
       "77  -2.033984   0.050416  \n",
       "78   1.299389  -0.882063  \n",
       "\n",
       "[79 rows x 15 columns]"
      ]
     },
     "execution_count": 47,
     "metadata": {},
     "output_type": "execute_result"
    }
   ],
   "source": [
    "results"
   ]
  },
  {
   "cell_type": "code",
   "execution_count": 48,
   "metadata": {},
   "outputs": [
    {
     "data": {
      "text/plain": [
       "count    158.000000\n",
       "mean       1.224433\n",
       "std        0.516969\n",
       "min        0.545707\n",
       "25%        0.826770\n",
       "50%        1.095852\n",
       "75%        1.482518\n",
       "max        3.794197\n",
       "dtype: float64"
      ]
     },
     "execution_count": 48,
     "metadata": {},
     "output_type": "execute_result"
    }
   ],
   "source": [
    "pd.Series(results[[\"home_error\", \"away_error\"]].values.flatten()).describe()"
   ]
  },
  {
   "cell_type": "code",
   "execution_count": 69,
   "metadata": {},
   "outputs": [
    {
     "data": {
      "text/html": [
       "<div>\n",
       "<style scoped>\n",
       "    .dataframe tbody tr th:only-of-type {\n",
       "        vertical-align: middle;\n",
       "    }\n",
       "\n",
       "    .dataframe tbody tr th {\n",
       "        vertical-align: top;\n",
       "    }\n",
       "\n",
       "    .dataframe thead th {\n",
       "        text-align: right;\n",
       "    }\n",
       "</style>\n",
       "<table border=\"1\" class=\"dataframe\">\n",
       "  <thead>\n",
       "    <tr style=\"text-align: right;\">\n",
       "      <th></th>\n",
       "      <th>home_error</th>\n",
       "      <th>away_error</th>\n",
       "    </tr>\n",
       "  </thead>\n",
       "  <tbody>\n",
       "    <tr>\n",
       "      <th>count</th>\n",
       "      <td>79.000000</td>\n",
       "      <td>79.000000</td>\n",
       "    </tr>\n",
       "    <tr>\n",
       "      <th>mean</th>\n",
       "      <td>1.236594</td>\n",
       "      <td>1.212272</td>\n",
       "    </tr>\n",
       "    <tr>\n",
       "      <th>std</th>\n",
       "      <td>0.445722</td>\n",
       "      <td>0.582214</td>\n",
       "    </tr>\n",
       "    <tr>\n",
       "      <th>min</th>\n",
       "      <td>0.695375</td>\n",
       "      <td>0.545707</td>\n",
       "    </tr>\n",
       "    <tr>\n",
       "      <th>25%</th>\n",
       "      <td>0.851484</td>\n",
       "      <td>0.786009</td>\n",
       "    </tr>\n",
       "    <tr>\n",
       "      <th>50%</th>\n",
       "      <td>1.115975</td>\n",
       "      <td>1.081299</td>\n",
       "    </tr>\n",
       "    <tr>\n",
       "      <th>75%</th>\n",
       "      <td>1.493250</td>\n",
       "      <td>1.360048</td>\n",
       "    </tr>\n",
       "    <tr>\n",
       "      <th>max</th>\n",
       "      <td>2.572724</td>\n",
       "      <td>3.794197</td>\n",
       "    </tr>\n",
       "  </tbody>\n",
       "</table>\n",
       "</div>"
      ],
      "text/plain": [
       "       home_error  away_error\n",
       "count   79.000000   79.000000\n",
       "mean     1.236594    1.212272\n",
       "std      0.445722    0.582214\n",
       "min      0.695375    0.545707\n",
       "25%      0.851484    0.786009\n",
       "50%      1.115975    1.081299\n",
       "75%      1.493250    1.360048\n",
       "max      2.572724    3.794197"
      ]
     },
     "execution_count": 69,
     "metadata": {},
     "output_type": "execute_result"
    }
   ],
   "source": [
    "results[[\"home_error\", \"away_error\"]].describe()"
   ]
  },
  {
   "cell_type": "code",
   "execution_count": 61,
   "metadata": {},
   "outputs": [
    {
     "data": {
      "text/plain": [
       "Text(0.5, 1.0, 'Away Error')"
      ]
     },
     "execution_count": 61,
     "metadata": {},
     "output_type": "execute_result"
    },
    {
     "data": {
      "image/png": "[encoded data removed]",
      "text/plain": [
       "<Figure size 576x576 with 2 Axes>"
      ]
     },
     "metadata": {
      "needs_background": "light"
     },
     "output_type": "display_data"
    }
   ],
   "source": [
    "fig, ax = plt.subplots(2, 1, sharex=True, figsize=(8, 8))\n",
    "\n",
    "results[\"home_error\"].plot.hist(ax=ax[0])\n",
    "ax[0].set_title(\"Home Error\")\n",
    "results[\"away_error\"].plot.hist(ax=ax[1])\n",
    "ax[1].set_title(\"Away Error\")"
   ]
  },
  {
   "cell_type": "code",
   "execution_count": 55,
   "metadata": {},
   "outputs": [
    {
     "data": {
      "text/plain": [
       "count    158.000000\n",
       "mean       0.924408\n",
       "std        0.691048\n",
       "min        0.000363\n",
       "25%        0.292214\n",
       "50%        0.899741\n",
       "75%        1.306239\n",
       "max        3.790132\n",
       "dtype: float64"
      ]
     },
     "execution_count": 55,
     "metadata": {},
     "output_type": "execute_result"
    }
   ],
   "source": [
    "pd.Series(results[[\"home_diff\", \"away_diff\"]].values.flatten()).abs().describe()"
   ]
  },
  {
   "cell_type": "code",
   "execution_count": 73,
   "metadata": {},
   "outputs": [
    {
     "data": {
      "text/html": [
       "<div>\n",
       "<style scoped>\n",
       "    .dataframe tbody tr th:only-of-type {\n",
       "        vertical-align: middle;\n",
       "    }\n",
       "\n",
       "    .dataframe tbody tr th {\n",
       "        vertical-align: top;\n",
       "    }\n",
       "\n",
       "    .dataframe thead th {\n",
       "        text-align: right;\n",
       "    }\n",
       "</style>\n",
       "<table border=\"1\" class=\"dataframe\">\n",
       "  <thead>\n",
       "    <tr style=\"text-align: right;\">\n",
       "      <th></th>\n",
       "      <th>home_diff</th>\n",
       "      <th>away_diff</th>\n",
       "    </tr>\n",
       "  </thead>\n",
       "  <tbody>\n",
       "    <tr>\n",
       "      <th>count</th>\n",
       "      <td>79.000000</td>\n",
       "      <td>79.000000</td>\n",
       "    </tr>\n",
       "    <tr>\n",
       "      <th>mean</th>\n",
       "      <td>0.892377</td>\n",
       "      <td>0.956439</td>\n",
       "    </tr>\n",
       "    <tr>\n",
       "      <th>std</th>\n",
       "      <td>0.644011</td>\n",
       "      <td>0.737827</td>\n",
       "    </tr>\n",
       "    <tr>\n",
       "      <th>min</th>\n",
       "      <td>0.000363</td>\n",
       "      <td>0.031081</td>\n",
       "    </tr>\n",
       "    <tr>\n",
       "      <th>25%</th>\n",
       "      <td>0.301262</td>\n",
       "      <td>0.284814</td>\n",
       "    </tr>\n",
       "    <tr>\n",
       "      <th>50%</th>\n",
       "      <td>0.789996</td>\n",
       "      <td>0.921670</td>\n",
       "    </tr>\n",
       "    <tr>\n",
       "      <th>75%</th>\n",
       "      <td>1.330550</td>\n",
       "      <td>1.277158</td>\n",
       "    </tr>\n",
       "    <tr>\n",
       "      <th>max</th>\n",
       "      <td>2.525266</td>\n",
       "      <td>3.790132</td>\n",
       "    </tr>\n",
       "  </tbody>\n",
       "</table>\n",
       "</div>"
      ],
      "text/plain": [
       "       home_diff  away_diff\n",
       "count  79.000000  79.000000\n",
       "mean    0.892377   0.956439\n",
       "std     0.644011   0.737827\n",
       "min     0.000363   0.031081\n",
       "25%     0.301262   0.284814\n",
       "50%     0.789996   0.921670\n",
       "75%     1.330550   1.277158\n",
       "max     2.525266   3.790132"
      ]
     },
     "execution_count": 73,
     "metadata": {},
     "output_type": "execute_result"
    }
   ],
   "source": [
    "results[[\"home_diff\", \"away_diff\"]].abs().describe()"
   ]
  },
  {
   "cell_type": "code",
   "execution_count": 62,
   "metadata": {},
   "outputs": [
    {
     "data": {
      "text/plain": [
       "Text(0.5, 1.0, 'Away Diff')"
      ]
     },
     "execution_count": 62,
     "metadata": {},
     "output_type": "execute_result"
    },
    {
     "data": {
      "image/png": "[encoded data removed]",
      "text/plain": [
       "<Figure size 576x576 with 2 Axes>"
      ]
     },
     "metadata": {
      "needs_background": "light"
     },
     "output_type": "display_data"
    }
   ],
   "source": [
    "fig, ax = plt.subplots(2, 1, sharex=True, figsize=(8, 8))\n",
    "\n",
    "results[\"home_diff\"].plot.hist(ax=ax[0])\n",
    "ax[0].set_title(\"Home Diff\")\n",
    "results[\"away_diff\"].plot.hist(ax=ax[1])\n",
    "ax[1].set_title(\"Away Diff\")"
   ]
  },
  {
   "cell_type": "code",
   "execution_count": 68,
   "metadata": {},
   "outputs": [
    {
     "data": {
      "text/plain": [
       "Text(0, 0.5, 'Actual Goals Scored')"
      ]
     },
     "execution_count": 68,
     "metadata": {},
     "output_type": "execute_result"
    },
    {
     "data": {
      "image/png": "[encoded data removed]",
      "text/plain": [
       "<Figure size 432x288 with 1 Axes>"
      ]
     },
     "metadata": {
      "needs_background": "light"
     },
     "output_type": "display_data"
    }
   ],
   "source": [
    "plt.plot(results[\"pred_home\"], results[\"home_score\"], \".\")\n",
    "plt.xlabel(\"Predicted Goals Scored\")\n",
    "plt.ylabel(\"Actual Goals Scored\")"
   ]
  },
  {
   "cell_type": "code",
   "execution_count": 67,
   "metadata": {},
   "outputs": [
    {
     "data": {
      "text/plain": [
       "Text(0, 0.5, 'Actual Goals Scored')"
      ]
     },
     "execution_count": 67,
     "metadata": {},
     "output_type": "execute_result"
    },
    {
     "data": {
      "image/png": "[encoded data removed]",
      "text/plain": [
       "<Figure size 432x288 with 1 Axes>"
      ]
     },
     "metadata": {
      "needs_background": "light"
     },
     "output_type": "display_data"
    }
   ],
   "source": [
    "plt.plot(results[\"pred_away\"], results[\"away_score\"], \".\")\n",
    "plt.xlabel(\"Predicted Goals Scored\")\n",
    "plt.ylabel(\"Actual Goals Scored\")"
   ]
  },
  {
   "cell_type": "code",
   "execution_count": 65,
   "metadata": {},
   "outputs": [
    {
     "data": {
      "text/html": [
       "<div>\n",
       "<style scoped>\n",
       "    .dataframe tbody tr th:only-of-type {\n",
       "        vertical-align: middle;\n",
       "    }\n",
       "\n",
       "    .dataframe tbody tr th {\n",
       "        vertical-align: top;\n",
       "    }\n",
       "\n",
       "    .dataframe thead th {\n",
       "        text-align: right;\n",
       "    }\n",
       "</style>\n",
       "<table border=\"1\" class=\"dataframe\">\n",
       "  <thead>\n",
       "    <tr style=\"text-align: right;\">\n",
       "      <th></th>\n",
       "      <th>pred_home</th>\n",
       "      <th>home_score</th>\n",
       "    </tr>\n",
       "  </thead>\n",
       "  <tbody>\n",
       "    <tr>\n",
       "      <th>pred_home</th>\n",
       "      <td>1.000000</td>\n",
       "      <td>0.388525</td>\n",
       "    </tr>\n",
       "    <tr>\n",
       "      <th>home_score</th>\n",
       "      <td>0.388525</td>\n",
       "      <td>1.000000</td>\n",
       "    </tr>\n",
       "  </tbody>\n",
       "</table>\n",
       "</div>"
      ],
      "text/plain": [
       "            pred_home  home_score\n",
       "pred_home    1.000000    0.388525\n",
       "home_score   0.388525    1.000000"
      ]
     },
     "execution_count": 65,
     "metadata": {},
     "output_type": "execute_result"
    }
   ],
   "source": [
    "results[[\"pred_home\", \"home_score\"]].corr()"
   ]
  },
  {
   "cell_type": "code",
   "execution_count": 66,
   "metadata": {},
   "outputs": [
    {
     "data": {
      "text/html": [
       "<div>\n",
       "<style scoped>\n",
       "    .dataframe tbody tr th:only-of-type {\n",
       "        vertical-align: middle;\n",
       "    }\n",
       "\n",
       "    .dataframe tbody tr th {\n",
       "        vertical-align: top;\n",
       "    }\n",
       "\n",
       "    .dataframe thead th {\n",
       "        text-align: right;\n",
       "    }\n",
       "</style>\n",
       "<table border=\"1\" class=\"dataframe\">\n",
       "  <thead>\n",
       "    <tr style=\"text-align: right;\">\n",
       "      <th></th>\n",
       "      <th>pred_away</th>\n",
       "      <th>away_score</th>\n",
       "    </tr>\n",
       "  </thead>\n",
       "  <tbody>\n",
       "    <tr>\n",
       "      <th>pred_away</th>\n",
       "      <td>1.000000</td>\n",
       "      <td>0.139643</td>\n",
       "    </tr>\n",
       "    <tr>\n",
       "      <th>away_score</th>\n",
       "      <td>0.139643</td>\n",
       "      <td>1.000000</td>\n",
       "    </tr>\n",
       "  </tbody>\n",
       "</table>\n",
       "</div>"
      ],
      "text/plain": [
       "            pred_away  away_score\n",
       "pred_away    1.000000    0.139643\n",
       "away_score   0.139643    1.000000"
      ]
     },
     "execution_count": 66,
     "metadata": {},
     "output_type": "execute_result"
    }
   ],
   "source": [
    "results[[\"pred_away\", \"away_score\"]].corr()"
   ]
  },
  {
   "cell_type": "code",
   "execution_count": null,
   "metadata": {},
   "outputs": [],
   "source": []
  }
 ],
 "metadata": {
  "kernelspec": {
   "display_name": "airsenalenv",
   "language": "python",
   "name": "python3"
  },
  "language_info": {
   "codemirror_mode": {
    "name": "ipython",
    "version": 3
   },
   "file_extension": ".py",
   "mimetype": "text/x-python",
   "name": "python",
   "nbconvert_exporter": "python",
   "pygments_lexer": "ipython3",
   "version": "3.9.16"
  }
 },
 "nbformat": 4,
 "nbformat_minor": 4
}
