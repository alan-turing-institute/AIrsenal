{
 "cells": [
  {
   "cell_type": "code",
   "execution_count": null,
   "metadata": {},
   "outputs": [],
   "source": [
    "import bpl\n",
    "import matplotlib.pyplot as plt\n",
    "import numpy as np\n",
    "import pandas as pd\n",
    "import pystan\n",
    "import seaborn as sns\n",
    "\n",
    "from airsenal.framework.schema import Result, session\n",
    "\n",
    "np.random.seed(42)"
   ]
  },
  {
   "cell_type": "code",
   "execution_count": 2,
   "metadata": {
    "collapsed": true
   },
   "outputs": [],
   "source": [
    "%matplotlib inline"
   ]
  },
  {
   "cell_type": "markdown",
   "metadata": {},
   "source": [
    "# Testing player level code"
   ]
  },
  {
   "cell_type": "code",
   "execution_count": 3,
   "metadata": {},
   "outputs": [
    {
     "name": "stderr",
     "output_type": "stream",
     "text": [
      "INFO:pystan:COMPILING THE C++ CODE FOR MODEL anon_model_8c4b3dae224ed40cd55af0e4da27a5f1 NOW.\n"
     ]
    }
   ],
   "source": [
    "model = pystan.StanModel(file=\"player_forecasts.stan\")"
   ]
  },
  {
   "cell_type": "code",
   "execution_count": 4,
   "metadata": {
    "collapsed": true
   },
   "outputs": [],
   "source": [
    "# numbers of players and matches\n",
    "n_player = 500\n",
    "n_match = 30\n",
    "\n",
    "# goals scored by team\n",
    "goals = np.random.poisson(lam=2.0, size=(n_player, n_match))\n",
    "\n",
    "# player level parameters\n",
    "theta = np.random.dirichlet(np.ones(3), size=n_player)\n",
    "\n",
    "# minutes played\n",
    "minutes = np.clip(\n",
    "    np.random.normal(loc=60.0, scale=10.0, size=(n_player, n_match)), 0.0, 90.0\n",
    ")\n",
    "\n",
    "# augmented scoring probabilities\n",
    "theta_aug = np.array(\n",
    "    [\n",
    "        [\n",
    "            theta[i, 0] * (minutes[i, j] / 90.0),\n",
    "            theta[i, 1] * (minutes[i, j] / 90.0),\n",
    "            theta[i, 2] * (minutes[i, j] / 90.0) + (90.0 - minutes[i, j]) / 90.0,\n",
    "        ]\n",
    "        for i in range(n_player)\n",
    "        for j in range(n_match)\n",
    "    ]\n",
    ").reshape(n_player, n_match, 3)\n",
    "\n",
    "# results for the player\n",
    "y = np.array(\n",
    "    [\n",
    "        np.random.multinomial(goals[i, j], theta_aug[i, j])\n",
    "        for i in range(n_player)\n",
    "        for j in range(n_match)\n",
    "    ]\n",
    ").reshape(n_player, n_match, 3)"
   ]
  },
  {
   "cell_type": "code",
   "execution_count": 5,
   "metadata": {
    "collapsed": true
   },
   "outputs": [],
   "source": [
    "stan_data = {\n",
    "    \"nplayer\": n_player,\n",
    "    \"nmatch\": n_match,\n",
    "    \"minutes\": minutes,\n",
    "    \"y\": y,\n",
    "    \"alpha\": [1, 1, 1],\n",
    "}"
   ]
  },
  {
   "cell_type": "code",
   "execution_count": 6,
   "metadata": {
    "collapsed": true
   },
   "outputs": [],
   "source": [
    "fit = model.optimizing(stan_data)"
   ]
  },
  {
   "cell_type": "markdown",
   "metadata": {},
   "source": [
    "## Test on real data\n",
    "\n",
    "### 1. Fit the team level model"
   ]
  },
  {
   "cell_type": "code",
   "execution_count": null,
   "metadata": {},
   "outputs": [],
   "source": [
    "df_past = pd.DataFrame(\n",
    "    np.array(\n",
    "        [\n",
    "            [\n",
    "                s.fixture.date,\n",
    "                s.fixture.home_team,\n",
    "                s.fixture.away_team,\n",
    "                s.home_score,\n",
    "                s.away_score,\n",
    "            ]\n",
    "            for s in session.query(Result).all()\n",
    "        ]\n",
    "    ),\n",
    "    columns=[\"date\", \"home_team\", \"away_team\", \"home_goals\", \"away_goals\"],\n",
    ")\n",
    "df_past[\"home_goals\"] = df_past[\"home_goals\"].astype(int)\n",
    "df_past[\"away_goals\"] = df_past[\"away_goals\"].astype(int)\n",
    "df_past[\"date\"] = pd.to_datetime(df_past[\"date\"])\n",
    "df_past = df_past[df_past[\"date\"] > \"2016-08-01\"]"
   ]
  },
  {
   "cell_type": "code",
   "execution_count": null,
   "metadata": {
    "collapsed": true
   },
   "outputs": [],
   "source": [
    "model_team = bpl.BPLModel(df_past)\n",
    "model_team.fit()"
   ]
  },
  {
   "cell_type": "markdown",
   "metadata": {},
   "source": [
    "## 2. Fit player level model"
   ]
  },
  {
   "cell_type": "code",
   "execution_count": 8,
   "metadata": {
    "collapsed": true
   },
   "outputs": [],
   "source": [
    "def get_empirical_bayes_estimates(df_emp):\n",
    "    # still not sure about this...\n",
    "    df = df_emp.copy()\n",
    "    df = df[df[\"match_id\"] != 0]\n",
    "    goals = df[\"goals\"].sum()\n",
    "    assists = df[\"assists\"].sum()\n",
    "    neither = df[\"neither\"].sum()\n",
    "    minutes = df[\"minutes\"].sum()\n",
    "    team = df[\"team_goals\"].sum()\n",
    "    total_minutes = 90 * len(df)\n",
    "    neff = df.groupby(\"player_name\").count()[\"goals\"].mean()\n",
    "    a0 = neff * (goals / team) * (total_minutes / minutes)\n",
    "    a1 = neff * (assists / team) * (total_minutes / minutes)\n",
    "    a2 = (\n",
    "        neff\n",
    "        * ((neither / team) - (total_minutes - minutes) / total_minutes)\n",
    "        * (total_minutes / minutes)\n",
    "    )\n",
    "    return np.array([a0, a1, a2])\n",
    "\n",
    "\n",
    "def process_player_data(prefix):\n",
    "    df = pd.read_csv(f\"../data/player_history_{prefix}.csv\")\n",
    "    df[\"neither\"] = df[\"team_goals\"] - df[\"goals\"] - df[\"assists\"]\n",
    "    alpha = get_empirical_bayes_estimates(df)\n",
    "    y = df.sort_values(\"player_name\")[[\"goals\", \"assists\", \"neither\"]].values.reshape(\n",
    "        (\n",
    "            df[\"player_name\"].nunique(),\n",
    "            df.groupby(\"player_name\").count().iloc[0][\"player_id\"],\n",
    "            3,\n",
    "        )\n",
    "    )\n",
    "\n",
    "    minutes = df.sort_values(\"player_name\")[\"minutes\"].values.reshape(\n",
    "        (\n",
    "            df[\"player_name\"].nunique(),\n",
    "            df.groupby(\"player_name\").count().iloc[0][\"player_id\"],\n",
    "        )\n",
    "    )\n",
    "\n",
    "    nplayer = df[\"player_name\"].nunique()\n",
    "    nmatch = df.groupby(\"player_name\").count().iloc[0][\"player_id\"]\n",
    "    player_names = np.sort(df[\"player_name\"].unique())\n",
    "    return {\n",
    "        \"nplayer\": nplayer,\n",
    "        \"nmatch\": nmatch,\n",
    "        \"minutes\": minutes,\n",
    "        \"y\": y,\n",
    "        \"alpha\": alpha,\n",
    "    }, player_names\n",
    "\n",
    "\n",
    "def fit_data(prefix, model):\n",
    "    data, names = process_player_data(prefix)\n",
    "    fit = model.optimizing(data)\n",
    "    df = (\n",
    "        pd.DataFrame(fit[\"theta\"], columns=[\"pr_score\", \"pr_assist\", \"pr_neither\"])\n",
    "        .set_index(names)\n",
    "        .reset_index()\n",
    "    )\n",
    "    df[\"pos\"] = prefix\n",
    "    return df, fit, data\n",
    "\n",
    "\n",
    "def fit_all_data(model):\n",
    "    df = pd.DataFrame()\n",
    "    fits = []\n",
    "    dfs = []\n",
    "    reals = []\n",
    "    for prefix in [\"FWD\", \"MID\", \"DEF\"]:\n",
    "        d, f, r = fit_data(prefix, model)\n",
    "        fits.append(f)\n",
    "        dfs.append(d)\n",
    "        reals.append(r)\n",
    "    df = (\n",
    "        pd.concat(dfs)\n",
    "        .rename(columns={\"index\": \"player_name\"})\n",
    "        .sort_values(\"player_name\")\n",
    "        .set_index(\"player_name\")\n",
    "    )\n",
    "    return df, fits, reals"
   ]
  },
  {
   "cell_type": "code",
   "execution_count": 9,
   "metadata": {},
   "outputs": [
    {
     "data": {
      "image/png": "[encoded data removed]",
      "text/plain": [
       "<matplotlib.figure.Figure at 0x118c154e0>"
      ]
     },
     "metadata": {},
     "output_type": "display_data"
    }
   ],
   "source": [
    "df_stat, fits, reals = fit_all_data(model)\n",
    "for pos in [\"FWD\", \"MID\", \"DEF\"]:\n",
    "    plt.scatter(\n",
    "        df_stat.loc[df_stat[\"pos\"] == pos, \"pr_assist\"],\n",
    "        df_stat.loc[df_stat[\"pos\"] == pos, \"pr_score\"],\n",
    "        label=pos,\n",
    "    )\n",
    "plt.xlabel(\"P(assist)\")\n",
    "plt.ylabel(\"P(score)\")\n",
    "plt.legend();"
   ]
  },
  {
   "cell_type": "markdown",
   "metadata": {},
   "source": [
    "## 3. distribution of playing times"
   ]
  },
  {
   "cell_type": "code",
   "execution_count": 10,
   "metadata": {
    "collapsed": true
   },
   "outputs": [],
   "source": [
    "df = pd.concat(\n",
    "    [\n",
    "        pd.read_csv(f\"../data/player_history_{prefix}.csv\")\n",
    "        for prefix in [\"DEF\", \"MID\", \"FWD\"]\n",
    "    ]\n",
    ")\n",
    "df = df[df[\"match_id\"] != 0]"
   ]
  },
  {
   "cell_type": "code",
   "execution_count": 11,
   "metadata": {},
   "outputs": [
    {
     "data": {
      "image/png": "[encoded data removed]",
      "text/plain": [
       "<matplotlib.figure.Figure at 0x118cffac8>"
      ]
     },
     "metadata": {},
     "output_type": "display_data"
    }
   ],
   "source": [
    "sns.distplot(df[\"minutes\"]);"
   ]
  },
  {
   "cell_type": "markdown",
   "metadata": {},
   "source": [
    "Model the probability that players will play in chunks: $t = 0$, $0 < t < 45$, $45 < t < 90$, $t = 90$?"
   ]
  },
  {
   "cell_type": "code",
   "execution_count": 12,
   "metadata": {},
   "outputs": [
    {
     "data": {
      "image/png": "[encoded data removed]",
      "text/plain": [
       "<matplotlib.figure.Figure at 0x118b47748>"
      ]
     },
     "metadata": {},
     "output_type": "display_data"
    }
   ],
   "source": [
    "mins = df[\"minutes\"]\n",
    "sns.distplot(mins[(mins != 0) & (mins != 90)]);"
   ]
  },
  {
   "cell_type": "markdown",
   "metadata": {},
   "source": [
    "An issue might be that a player goes through patches of player no time at all (i.e., injury) and patches where they play a lot. \n",
    "\n",
    "Perhaps a way to gain an approximate sample of $p(T)$ could be to simply take the player's last $N$ matches and then assume these are i.i.d from $p(T)$ and sum over these.\n",
    "\n",
    "Furthermore, if a player is red (i.e., injured) on the website, we should set $p(T) = 0$ if $T \\neq 0$."
   ]
  },
  {
   "cell_type": "markdown",
   "metadata": {},
   "source": [
    "## 4. Putting it all together\n",
    "\n",
    "We will evaluate the expected number of goals / assists for a player by ($p$ denotes a density and $\\mathrm{Pr}$ denotes a probability):\n",
    "\n",
    "$$\n",
    "\\begin{aligned}\n",
    "\\mathrm{Pr}(n_g, n_a, n_n) &= \\int \\mathrm{d}T \\sum\\limits_{N_g = 0}^\\infty \\mathrm{Pr}(n_g, n_a, n_n | N_g, T)\\,\\mathrm{Pr}(N_g)\\,p(T) \\\\\n",
    "     &\\simeq \\dfrac{1}{M}\\sum_\\limits{i=1}^M \\sum\\limits_{N_g=0}^{15} \\mathrm{Pr}(n_g, n_a, n_n | N_g, T_i)\\,\\mathrm{Pr}(N_g)\n",
    "\\end{aligned}\n",
    "$$\n",
    "\n",
    "Where $T_i$ are the amount of time that a player has spent on the pitch in their past $M$ matches, $N_g$ are the number of goals scored by their team, and $n_g, n_a, n_n$ is the number of goals, assists and goals where the player is not involved.\n",
    "\n",
    "$p(N_g)$ is obtained from the team-level model. $p(n_g, n_a, n_n | N_g, T_i)$ is obtained from the multinomial model above.\n",
    "\n",
    "For clean sheets, the calculation is much easier: one simply evaluates $p(N_c = 0)\\times p(T > 60)$ using the team-level model, where $N_c$ is the number of goals a team concedes.\n",
    "\n",
    "Once we have $p(X)$ and $p(N_c = 0)$ , we can compute the expected values of $(n_g, n_a, n_n)$ and multiply by the number of points the player gets for the outcomes. Then, we sum it all up and get the expected points!"
   ]
  }
 ],
 "metadata": {
  "kernelspec": {
   "display_name": "Python 3",
   "language": "python",
   "name": "python3"
  },
  "language_info": {
   "codemirror_mode": {
    "name": "ipython",
    "version": 3
   },
   "file_extension": ".py",
   "mimetype": "text/x-python",
   "name": "python",
   "nbconvert_exporter": "python",
   "pygments_lexer": "ipython3",
   "version": "3.6.2"
  }
 },
 "nbformat": 4,
 "nbformat_minor": 2
}
