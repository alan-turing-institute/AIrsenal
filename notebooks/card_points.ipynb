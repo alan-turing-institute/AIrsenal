{
 "cells": [
  {
   "cell_type": "code",
   "execution_count": null,
   "metadata": {},
   "outputs": [],
   "source": [
    "import pandas as pd\n",
    "\n",
    "from airsenal.framework.schema import Player, PlayerScore, session"
   ]
  },
  {
   "cell_type": "code",
   "execution_count": null,
   "metadata": {},
   "outputs": [],
   "source": [
    "min_minutes = 1\n",
    "max_minutes = 90\n",
    "min_matches = 10\n",
    "\n",
    "query = (\n",
    "    session.query(PlayerScore)\n",
    "    .filter(PlayerScore.minutes >= min_minutes)\n",
    "    .filter(PlayerScore.minutes <= max_minutes)\n",
    ")\n",
    "# TODO filter on gw and season\n",
    "df = pd.read_sql(query.statement, session.bind)"
   ]
  },
  {
   "cell_type": "code",
   "execution_count": 3,
   "metadata": {},
   "outputs": [
    {
     "data": {
      "text/plain": [
       "0    0.885188\n",
       "1    0.114812\n",
       "Name: yellow_cards, dtype: float64"
      ]
     },
     "execution_count": 3,
     "metadata": {},
     "output_type": "execute_result"
    }
   ],
   "source": [
    "df[\"yellow_cards\"].value_counts(normalize=True)"
   ]
  },
  {
   "cell_type": "code",
   "execution_count": 4,
   "metadata": {},
   "outputs": [
    {
     "data": {
      "text/plain": [
       "0    0.995732\n",
       "1    0.004268\n",
       "Name: red_cards, dtype: float64"
      ]
     },
     "execution_count": 4,
     "metadata": {},
     "output_type": "execute_result"
    }
   ],
   "source": [
    "df[\"red_cards\"].value_counts(normalize=True)"
   ]
  },
  {
   "cell_type": "code",
   "execution_count": 5,
   "metadata": {},
   "outputs": [],
   "source": [
    "df[\"card_pts\"] = -df[\"yellow_cards\"] - 3 * df[\"red_cards\"]"
   ]
  },
  {
   "cell_type": "code",
   "execution_count": 6,
   "metadata": {},
   "outputs": [],
   "source": [
    "card_pts = df.groupby(\"player_id\").card_pts.sum()\n",
    "\n",
    "match_counts = df.groupby(\"player_id\").card_pts.count()\n",
    "match_counts[match_counts < min_matches] = min_matches\n",
    "\n",
    "sum_cards = df.groupby(\"player_id\").card_pts.sum()\n",
    "\n",
    "avg_cards = sum_cards / match_counts"
   ]
  },
  {
   "cell_type": "code",
   "execution_count": 7,
   "metadata": {},
   "outputs": [
    {
     "data": {
      "text/html": [
       "<div>\n",
       "<style scoped>\n",
       "    .dataframe tbody tr th:only-of-type {\n",
       "        vertical-align: middle;\n",
       "    }\n",
       "\n",
       "    .dataframe tbody tr th {\n",
       "        vertical-align: top;\n",
       "    }\n",
       "\n",
       "    .dataframe thead th {\n",
       "        text-align: right;\n",
       "    }\n",
       "</style>\n",
       "<table border=\"1\" class=\"dataframe\">\n",
       "  <thead>\n",
       "    <tr style=\"text-align: right;\">\n",
       "      <th></th>\n",
       "      <th>card_pts</th>\n",
       "      <th>fpl_api_id</th>\n",
       "      <th>name</th>\n",
       "    </tr>\n",
       "    <tr>\n",
       "      <th>player_id</th>\n",
       "      <th></th>\n",
       "      <th></th>\n",
       "      <th></th>\n",
       "    </tr>\n",
       "  </thead>\n",
       "  <tbody>\n",
       "    <tr>\n",
       "      <th>398</th>\n",
       "      <td>-0.529412</td>\n",
       "      <td>294.0</td>\n",
       "      <td>Marcos Rojo</td>\n",
       "    </tr>\n",
       "    <tr>\n",
       "      <th>230</th>\n",
       "      <td>-0.466667</td>\n",
       "      <td>172.0</td>\n",
       "      <td>Kevin McDonald</td>\n",
       "    </tr>\n",
       "    <tr>\n",
       "      <th>554</th>\n",
       "      <td>-0.437500</td>\n",
       "      <td>406.0</td>\n",
       "      <td>Juan Foyth</td>\n",
       "    </tr>\n",
       "    <tr>\n",
       "      <th>591</th>\n",
       "      <td>-0.421053</td>\n",
       "      <td>544.0</td>\n",
       "      <td>Conor Gallagher</td>\n",
       "    </tr>\n",
       "    <tr>\n",
       "      <th>2</th>\n",
       "      <td>-0.409091</td>\n",
       "      <td>2.0</td>\n",
       "      <td>Sokratis Papastathopoulos</td>\n",
       "    </tr>\n",
       "    <tr>\n",
       "      <th>108</th>\n",
       "      <td>-0.385965</td>\n",
       "      <td>82.0</td>\n",
       "      <td>Phil Bardsley</td>\n",
       "    </tr>\n",
       "    <tr>\n",
       "      <th>87</th>\n",
       "      <td>-0.350000</td>\n",
       "      <td>77.0</td>\n",
       "      <td>Tariq Lamptey</td>\n",
       "    </tr>\n",
       "    <tr>\n",
       "      <th>444</th>\n",
       "      <td>-0.338710</td>\n",
       "      <td>334.0</td>\n",
       "      <td>Fabian Schär</td>\n",
       "    </tr>\n",
       "    <tr>\n",
       "      <th>232</th>\n",
       "      <td>-0.333333</td>\n",
       "      <td>174.0</td>\n",
       "      <td>Stefan Johansen</td>\n",
       "    </tr>\n",
       "    <tr>\n",
       "      <th>219</th>\n",
       "      <td>-0.333333</td>\n",
       "      <td>502.0</td>\n",
       "      <td>Allan Marques Loureiro</td>\n",
       "    </tr>\n",
       "    <tr>\n",
       "      <th>421</th>\n",
       "      <td>-0.333333</td>\n",
       "      <td>318.0</td>\n",
       "      <td>Brandon Williams</td>\n",
       "    </tr>\n",
       "    <tr>\n",
       "      <th>252</th>\n",
       "      <td>-0.315789</td>\n",
       "      <td>484.0</td>\n",
       "      <td>Antonee Robinson</td>\n",
       "    </tr>\n",
       "    <tr>\n",
       "      <th>259</th>\n",
       "      <td>-0.315789</td>\n",
       "      <td>571.0</td>\n",
       "      <td>Joachim Andersen</td>\n",
       "    </tr>\n",
       "    <tr>\n",
       "      <th>9</th>\n",
       "      <td>-0.313559</td>\n",
       "      <td>9.0</td>\n",
       "      <td>Granit Xhaka</td>\n",
       "    </tr>\n",
       "    <tr>\n",
       "      <th>179</th>\n",
       "      <td>-0.312000</td>\n",
       "      <td>138.0</td>\n",
       "      <td>Luka Milivojevic</td>\n",
       "    </tr>\n",
       "    <tr>\n",
       "      <th>638</th>\n",
       "      <td>-0.308824</td>\n",
       "      <td>461.0</td>\n",
       "      <td>Romain Saïss</td>\n",
       "    </tr>\n",
       "    <tr>\n",
       "      <th>75</th>\n",
       "      <td>-0.307692</td>\n",
       "      <td>64.0</td>\n",
       "      <td>Florin Andone</td>\n",
       "    </tr>\n",
       "    <tr>\n",
       "      <th>529</th>\n",
       "      <td>-0.300000</td>\n",
       "      <td>643.0</td>\n",
       "      <td>Alexandre Jankewitz</td>\n",
       "    </tr>\n",
       "    <tr>\n",
       "      <th>404</th>\n",
       "      <td>-0.297619</td>\n",
       "      <td>300.0</td>\n",
       "      <td>Luke Shaw</td>\n",
       "    </tr>\n",
       "    <tr>\n",
       "      <th>500</th>\n",
       "      <td>-0.289474</td>\n",
       "      <td>364.0</td>\n",
       "      <td>Oriol Romeu Vidal</td>\n",
       "    </tr>\n",
       "  </tbody>\n",
       "</table>\n",
       "</div>"
      ],
      "text/plain": [
       "           card_pts  fpl_api_id                       name\n",
       "player_id                                                 \n",
       "398       -0.529412       294.0                Marcos Rojo\n",
       "230       -0.466667       172.0             Kevin McDonald\n",
       "554       -0.437500       406.0                 Juan Foyth\n",
       "591       -0.421053       544.0            Conor Gallagher\n",
       "2         -0.409091         2.0  Sokratis Papastathopoulos\n",
       "108       -0.385965        82.0              Phil Bardsley\n",
       "87        -0.350000        77.0              Tariq Lamptey\n",
       "444       -0.338710       334.0               Fabian Schär\n",
       "232       -0.333333       174.0            Stefan Johansen\n",
       "219       -0.333333       502.0     Allan Marques Loureiro\n",
       "421       -0.333333       318.0           Brandon Williams\n",
       "252       -0.315789       484.0           Antonee Robinson\n",
       "259       -0.315789       571.0           Joachim Andersen\n",
       "9         -0.313559         9.0               Granit Xhaka\n",
       "179       -0.312000       138.0           Luka Milivojevic\n",
       "638       -0.308824       461.0               Romain Saïss\n",
       "75        -0.307692        64.0              Florin Andone\n",
       "529       -0.300000       643.0        Alexandre Jankewitz\n",
       "404       -0.297619       300.0                  Luke Shaw\n",
       "500       -0.289474       364.0          Oriol Romeu Vidal"
      ]
     },
     "execution_count": 7,
     "metadata": {},
     "output_type": "execute_result"
    }
   ],
   "source": [
    "players = pd.read_sql(session.query(Player).statement, session.bind)\n",
    "players.set_index(\"player_id\", inplace=True)\n",
    "\n",
    "avg_cards = pd.merge(avg_cards, players, how=\"left\", left_index=True, right_index=True)\n",
    "avg_cards.dropna().sort_values(by=\"card_pts\", ascending=True).head(20)"
   ]
  },
  {
   "cell_type": "code",
   "execution_count": null,
   "metadata": {},
   "outputs": [],
   "source": []
  },
  {
   "cell_type": "code",
   "execution_count": null,
   "metadata": {},
   "outputs": [],
   "source": []
  }
 ],
 "metadata": {
  "kernelspec": {
   "display_name": "Python 3",
   "language": "python",
   "name": "python3"
  },
  "language_info": {
   "codemirror_mode": {
    "name": "ipython",
    "version": 3
   },
   "file_extension": ".py",
   "mimetype": "text/x-python",
   "name": "python",
   "nbconvert_exporter": "python",
   "pygments_lexer": "ipython3",
   "version": "3.7.8"
  }
 },
 "nbformat": 4,
 "nbformat_minor": 4
}
